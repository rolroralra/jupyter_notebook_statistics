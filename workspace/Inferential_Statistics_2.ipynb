{
 "cells": [
  {
   "cell_type": "code",
   "execution_count": 1,
   "metadata": {
    "execution": {
     "iopub.execute_input": "2024-04-26T13:39:36.587591Z",
     "iopub.status.busy": "2024-04-26T13:39:36.586893Z",
     "iopub.status.idle": "2024-04-26T13:39:42.045888Z",
     "shell.execute_reply": "2024-04-26T13:39:42.045094Z",
     "shell.execute_reply.started": "2024-04-26T13:39:36.587554Z"
    }
   },
   "outputs": [],
   "source": [
    "import pandas as pd\n",
    "import numpy as np\n",
    "import scipy.stats as stats\n",
    "import statsmodels.api as sm\n",
    "import statsmodels.formula.api as smf\n",
    "import statsmodels.stats.api as sms\n",
    "import seaborn as sns\n",
    "\n",
    "# $\\begin{aligned} \\end{aligned}$\n",
    "# $\\begin{aligned} X &{}= (X + 1)^2  \\\\&{} = X^2 + 2X + 1 \\end{aligned}$\n",
    "# $\\begin{aligned} Z \\sim N(0,1) \\end{aligned}$"
   ]
  },
  {
   "cell_type": "markdown",
   "metadata": {},
   "source": [
    "# 두 모집단 모평균 차이에 대한 검정\n",
    "\n",
    "##  0. one poplulation \n",
    "```python\n",
    "import scipy.stats as stats\n",
    "test_statistic, p_value = stats.ttest_1samp(sample, popmean=mean)\n",
    "```\n",
    "## 1. two independent population and known having equal variance\n",
    "> $\\forall{n_1, n_2} \\in N$\n",
    "\n",
    "```python\n",
    "import scipy.stats as stats\n",
    "test_statistic, p_value = stats.ttest_ind(sample_1, sample_2, equal_var=True)\n",
    "```\n",
    "\n",
    "## 2. two independent population and unknown having equal variance\n",
    "> $\\forall{n_1, n_2} \\in N$\n",
    "\n",
    "```python\n",
    "import scipy.stats as stats\n",
    "test_statistic, p_value = stats.ttest_ind(sample_1, sample_2, equal_var=False)\n",
    "```\n",
    "\n",
    "## 3. paired sample (related)\n",
    "> $\\forall{n} \\in N$\n",
    "\n",
    "```python\n",
    "import scipy.stats as stats\n",
    "test_statistic, p_value = stats.ttest_rel(sample_1, sample_2)\n",
    "```"
   ]
  },
  {
   "cell_type": "code",
   "execution_count": 10,
   "metadata": {},
   "outputs": [
    {
     "name": "stdout",
     "output_type": "stream",
     "text": [
      "n1 = 51\n",
      "n2 = 143\n",
      "\n",
      "test_statistic: -0.29642916554896287\n",
      "p_value: 0.767222754233275\n",
      "\n",
      "0.767 > 0.05, H_0 is not rejected\n"
     ]
    }
   ],
   "source": [
    "max_sample_size = 200\n",
    "min_sample_size = 50\n",
    "\n",
    "significance_level = 0.05\n",
    "\n",
    "sample_size_1 = np.random.randint(min_sample_size, max_sample_size)\n",
    "sample_size_2 = np.random.randint(min_sample_size, max_sample_size)\n",
    "n1 = sample_size_1\n",
    "n2 = sample_size_2\n",
    "\n",
    "population_mean = 173\n",
    "population_std = 7\n",
    "\n",
    "max_mean_diff = 2\n",
    "population_mean_diff = round(np.random.random() * max_mean_diff * 2 - max_mean_diff, 2)\n",
    "\n",
    "random_seed = 123\n",
    "\n",
    "sample_1 = stats.norm.rvs(size=n1, loc=population_mean, scale=population_std, random_state=random_seed)\n",
    "sample_2 = stats.norm.rvs(size=n2, loc=population_mean, scale=population_std, random_state=random_seed)\n",
    "\n",
    "print(f\"n1 = {sample_1.size}\")\n",
    "print(f\"n2 = {sample_2.size}\")\n",
    "print()\n",
    "\n",
    "test_statistic, p_value = stats.ttest_ind(sample_1, sample_2, equal_var=True)\n",
    "print(f\"test_statistic: {test_statistic}\")\n",
    "print(f\"p_value: {p_value}\")\n",
    "print()\n",
    "\n",
    "if p_value > significance_level:\n",
    "    print(f\"{round(p_value,3)} > {round(significance_level, 3)}, H_0 is not rejected\")\n",
    "else:\n",
    "    print(f\"{round(p_value,3)} <= {round(significance_level, 3)}, H_0 is rejected\")"
   ]
  },
  {
   "cell_type": "markdown",
   "metadata": {},
   "source": [
    "# Categorical Data Analysis\n",
    "## 1. Goodness of fit \n",
    "> $\\begin{aligned} Suppose\\,\\,k\\,\\,is\\,\\,\\#\\,\\,of\\,\\,categories,\\,\\,n=\\sum_{i=1}^{k} X_i\\end{aligned}$\n",
    ">\n",
    "> $\\begin{aligned} If\\,\\,all\\,\\,k\\,\\,categories'\\,\\,ratio\\,\\,p_i\\,\\,are\\,\\,exactly\\,\\,facts,\\,\\,\\end{aligned}$\n",
    ">\n",
    "> $\\begin{aligned} \\implies X = \\sum_{i=1}^{k} \\frac{(X_i - np_i)^2}{np_i}\\end{aligned}$ ~ $\\begin{aligned} \\chi^2(k-1)\\end{aligned}$\n",
    "\n",
    "```python\n",
    "import scipy.stats as stats\n",
    "chi2_statistic, p_value = stasts.chisquared(observed, expected)\n",
    "```\n",
    "---\n",
    "## 2. Independency\n",
    "> $\\begin{aligned} Suppose\\,\\,r,c\\,\\,are\\,\\,\\#\\,\\,of\\,\\,rows\\,\\,and\\,\\,columns,\\,\\,n=\\sum_{i=1}^{r} \\sum_{j=1}^{c} X_{ij}\\end{aligned}$\n",
    ">\n",
    "> $\\begin{aligned} If\\,\\,two\\,\\,categorical\\,\\,random\\,\\,variables\\,\\,are\\,\\,independent,\\end{aligned}$\n",
    ">\n",
    "> $\\begin{aligned} \\implies \\hat{p_{ij}}=\\frac{\\sum_{j=1}^{c} X_{ij}}{n} \\cdot \\frac{\\sum_{i=1}^{r} X_{ij}}{n}\\end{aligned}$\n",
    ">\n",
    "> $\\begin{aligned} \\implies X = \\sum_{i=1}^{r} \\sum_{j=1}^{c} \\frac{(X_{ij} - n\\hat{p_{ij}})^2}{n\\hat{p_{ij}}}\\end{aligned}$ ~ $\\begin{aligned} \\chi^2[(r-1)(c-1)]\\end{aligned}$\n",
    "\n",
    "```python\n",
    "import scipy.stats as stats\n",
    "chi2_statistic, p_value = stasts.chi2_contingency(contingency_table)\n",
    "```"
   ]
  },
  {
   "cell_type": "code",
   "execution_count": 8,
   "metadata": {},
   "outputs": [
    {
     "name": "stdout",
     "output_type": "stream",
     "text": [
      "n = 31818\n",
      "ratios = [0.285, 0.13, 0.088, 0.018, 0.143, 0.225, 0.099, 0.011]\n",
      "expected = [9060, 4152, 2815, 582, 4548, 7152, 3152, 357]\n",
      "observed = [9128, 4227, 2831, 542, 4426, 7225, 3017, 422]\n",
      "\n",
      "chi2_statistic = 26.45699277563255\n",
      "p_value = 0.0004172074368877547\n",
      "\n",
      "0.0 <= 0.05, H_0 is rejected ==> Goodness of fit Test Failed\n"
     ]
    }
   ],
   "source": [
    "MIN_NUMBER_OF_CATEGORIES=3\n",
    "MAX_NUMBER_OF_CATEGORIES=10\n",
    "MAX_COUNT_VALUE=10000\n",
    "MAX_ERROR_PROB=0.015\n",
    "MAX_ERROR=round(MAX_COUNT_VALUE * MAX_ERROR_PROB, 0)\n",
    "\n",
    "significance_level = 0.05\n",
    "\n",
    "k = np.random.randint(MIN_NUMBER_OF_CATEGORIES, MAX_NUMBER_OF_CATEGORIES)\n",
    "\n",
    "# Problem Sample Generate -- ratios generate\n",
    "expected_temp = np.random.randint(0, MAX_COUNT_VALUE, size=k)\n",
    "ratios = expected_temp / np.sum(expected_temp)\n",
    "\n",
    "\n",
    "# Observed Generate\n",
    "observed = list()\n",
    "for i, expected_value in enumerate(expected_temp):\n",
    "    observed_value=np.random.randint(max(0, expected_value - MAX_ERROR), expected_value + MAX_ERROR)\n",
    "    observed.append(observed_value)\n",
    "\n",
    "n = np.sum(observed)\n",
    "\n",
    "# Expected\n",
    "expected = ratios * n\n",
    "\n",
    "# Goodness of fit Test\n",
    "chi2_statistic, p_value = stats.chisquare(observed, expected)\n",
    "\n",
    "print(f\"n = {n}\")\n",
    "print(f\"ratios = {ratios.round(3).tolist()}\")\n",
    "print(f\"expected = {expected.round(0).astype('int').tolist()}\")\n",
    "print(f\"observed = {observed}\")\n",
    "print()\n",
    "print(f\"chi2_statistic = {chi2_statistic}\")\n",
    "print(f\"p_value = {p_value}\")\n",
    "print()\n",
    "\n",
    "if p_value > significance_level:\n",
    "    print(f\"{round(p_value,3)} > {round(significance_level, 3)}, H_0 is not rejected ==> Goodness of fit Test Successed\")\n",
    "else:\n",
    "    print(f\"{round(p_value,3)} <= {round(significance_level, 3)}, H_0 is rejected ==> Goodness of fit Test Failed\")"
   ]
  },
  {
   "cell_type": "code",
   "execution_count": null,
   "metadata": {},
   "outputs": [],
   "source": [
    "MIN_ROW_COUNT=30\n",
    "MAX_ROW_COUNT=100\n",
    "MIN_COL_COUNT=30\n",
    "MAX_COL_COUNT=100\n",
    "SCALE=100\n",
    "MAX_ERROR_PROB=0.17\n",
    "\n",
    "significance_level = 0.05\n",
    "\n",
    "r = np.random.randint(MIN_ROW_COUNT,MAX_ROW_COUNT)\n",
    "c = np.random.randint(MIN_COL_COUNT,MAX_COL_COUNT)\n",
    "\n",
    "prob_row = np.random.randint(1, 101, size=r)\n",
    "prob_row = prob_row / prob_row.sum()\n",
    "\n",
    "prob_col = np.random.randint(1, 101, size=c)\n",
    "prob_col = prob_col / prob_col.sum()\n",
    "\n",
    "X = np.arange(0, r*c).reshape(r,c)\n",
    "\n",
    "n = r * c * SCALE;\n",
    "for row, row_arr in enumerate(X):\n",
    "    for col, value in enumerate(row_arr):\n",
    "        expected_value = n * prob_row[row] * prob_col[col]\n",
    "        X[row][col] = np.random.randint(max(1, int(expected_value * (1 - MAX_ERROR_PROB))), int(expected_value * (1 + MAX_ERROR_PROB) + 2))\n",
    "\n",
    "chi2_statistic, p_value, dof, expected = stats.chi2_contingency(X)\n",
    "\n",
    "\n",
    "print(f\"row = {row}, col = {col}\")\n",
    "print(f\"n = {n}\")\n",
    "print(f\"X =\\n{X}\")\n",
    "print(f\"expected =\\n{expected.astype('int')}\")\n",
    "print()\n",
    "print(f\"chi2_statistic = {chi2_statistic}\")\n",
    "print(f\"p_value = {p_value}\")\n",
    "print(f\"dof = {dof}, (r - 1) * (c - 1) = {(r - 1) * (c - 1)}\")\n",
    "print()\n",
    "\n",
    "if p_value > significance_level:\n",
    "    print(f\"{round(p_value,3)} > {round(significance_level, 3)}, H_0 is not rejected ==> Independency Test Successed\")\n",
    "else:\n",
    "    print(f\"{round(p_value,3)} <= {round(significance_level, 3)}, H_0 is rejected ==> Independency Test Failed\")"
   ]
  },
  {
   "cell_type": "markdown",
   "metadata": {},
   "source": [
    "# ANOVA (Analysis of Variance) : 분산분석\n",
    "## One Way ANOVA\n",
    "> $\\begin{aligned} k\\,:\\,\\,\\#\\,\\,of\\,\\,treatments\\end{aligned}$\n",
    ">\n",
    "> $\\begin{aligned} n\\,:\\,\\,sample\\,\\,size \\end{aligned}$\n",
    ">\n",
    "> $\\begin{aligned} N = n \\cdot k \\end{aligned}$\n",
    ">\n",
    "> $\\begin{aligned} \\bar{y_{i}}=\\frac{\\sum_{j=1}^{n} y_{ij}}{n} \\end{aligned}$\n",
    ">\n",
    "> $\\begin{aligned} \\bar{y}=\\frac{\\sum_{i=1}^{k}\\sum_{j=1}^{n} y_{ij}}{N} \\end{aligned}$\n",
    ">\n",
    "> $\\begin{aligned} Suppose\\,\\,\\,&{}Y_{ij}=\\mu+\\tau_{i}+\\epsilon_{ij} \\\\&{} \\sum_{i=1}^{k} \\tau_{i}=0 \\\\&{}\\epsilon_{ij} \\sim N(0,\\sigma^2)  \\end{aligned}$ \n",
    ">\n",
    "> $\\begin{aligned} \\implies Y_{ij} \\sim N(\\mu+\\tau_{i},\\sigma^2) \\end{aligned}$\n",
    "\n",
    "## SST (Sum of Squares Total)\n",
    "> $\\begin{aligned} SST=\\sum_{i=1}^{k} \\sum_{j=1}^{n} (y_{ij}-\\bar{y})^2 \\end{aligned}$\n",
    "\n",
    "## SSTR (Sum of Squares Treatment)\n",
    "> $\\begin{aligned} SSTR=\\sum_{i=1}^{k} \\sum_{j=1}^{n} (\\bar{y_{i}}-\\bar{y})^2 =  n \\cdot \\sum_{i=1}^{k} (\\bar{y_{i}}-\\bar{y})^2\\end{aligned}$\n",
    "\n",
    "## SSTR (Sum of Squares Error)\n",
    "> $\\begin{aligned} SSE=\\sum_{i=1}^{k} \\sum_{j=1}^{n} (y_{ij}-\\bar{y_{i}})^2 \\end{aligned}$\n",
    "\n",
    "> $\\begin{aligned} SST = SSTR + SSE \\end{aligned}$\n",
    "\n",
    "## Mean Sqaure Statistic\n",
    "> $\\begin{aligned} MSTR = \\frac{SSTR}{k - 1}\\end{aligned}$\n",
    ">\n",
    "> $\\begin{aligned} MSE = \\frac{SSE}{N - k}\\end{aligned}$\n",
    ">\n",
    "> $\\begin{aligned} F = \\frac{MSTR}{MSE} \\sim F(k-1,N-k)\\end{aligned}$\n",
    "\n",
    "## Python Example Code\n",
    "```python\n",
    "import scipy.stats as stats\n",
    "chi2_statistic, p_value = stasts.chisquared(observed, expected)\n",
    "```\n",
    "---\n",
    "2. Independency\n",
    ">\n",
    ">\n",
    "> $\\begin{aligned} Suppose\\,\\,r,c\\,\\,are\\,\\,\\#\\,\\,of\\,\\,rows\\,\\,and\\,\\,columns,\\,\\,n=\\sum_{i=1}^{r} \\sum_{j=1}^{c} X_{ij}\\end{aligned}$\n",
    ">\n",
    "> $\\begin{aligned} If\\,\\,two\\,\\,categorical\\,\\,random\\,\\,variables\\,\\,are\\,\\,independent,\\end{aligned}$\n",
    ">\n",
    "> $\\begin{aligned} \\implies \\hat{p_{ij}}=\\frac{\\sum_{j=1}^{c} X_{ij}}{n} \\cdot \\frac{\\sum_{i=1}^{r} X_{ij}}{n}\\end{aligned}$\n",
    ">\n",
    "> $\\begin{aligned} \\implies X = \\sum_{i=1}^{r} \\sum_{j=1}^{c} \\frac{(X_{ij} - n\\hat{p_{ij}})^2}{n\\hat{p_{ij}}}\\end{aligned}$ ~ $\\begin{aligned} \\chi^2[(r-1)(c-1)]\\end{aligned}$\n",
    "\n",
    "```python\n",
    "import scipy.stats as stats\n",
    "chi2_statistic, p_value = stasts.chi2_contingency(contingency_table)\n",
    "```"
   ]
  },
  {
   "cell_type": "code",
   "execution_count": 50,
   "metadata": {},
   "outputs": [
    {
     "name": "stdout",
     "output_type": "stream",
     "text": [
      "             df  sum_sq   mean_sq         F    PR(>F)\n",
      "treatment   4.0   13.68  3.420000  0.625356  0.646851\n",
      "Residual   45.0  246.10  5.468889       NaN       NaN\n"
     ]
    },
    {
     "data": {
      "image/png": "[encoded data removed]",
      "text/plain": [
       "<Figure size 432x288 with 1 Axes>"
      ]
     },
     "metadata": {
      "needs_background": "light"
     },
     "output_type": "display_data"
    }
   ],
   "source": [
    "population_mean = 10\n",
    "population_std = 2\n",
    "sample_size = 10\n",
    "treatment_count = 5\n",
    "\n",
    "\n",
    "treatments = [chr(c) for c in ord('A') + np.arange(treatment_count)]\n",
    "\n",
    "data_table = {\"y\": [], \"treatment\": np.repeat(treatments, sample_size).tolist()}\n",
    "\n",
    "for i, treatment in enumerate(treatments):\n",
    "    data_table[\"y\"].extend(stats.norm.rvs(loc=population_mean, scale=population_std, size=sample_size).astype('int').tolist())\n",
    "\n",
    "\n",
    "df = pd.DataFrame(data_table)\n",
    "lm = smf.ols('y ~ treatment', data=data_table).fit()\n",
    "# lm.summary()\n",
    "\n",
    "sns.boxplot(data=df, x='treatment', y='y', orient='v')\n",
    "\n",
    "# return DataFrame\n",
    "print(sms.anova_lm(lm))\n",
    "stats.normaltest()"
   ]
  },
  {
   "cell_type": "markdown",
   "metadata": {},
   "source": [
    "# Correlation Analysis (상관분석)\n",
    "## 1. Person (피어슨 상관계수)\n",
    "```python\n",
    "import scipy.stats as stats\n",
    "correlation_statistic, p_value = stats.parsonr(data1, data2)\n",
    "```\n",
    "\n",
    "## 2. Spearman (스피어만 상관계수)\n",
    "> using data __order__\n",
    "\n",
    "```python\n",
    "import scipy.stats as stats\n",
    "correlation_statistic, p_value = stats.spearmanr(data1, data2)\n",
    "```\n",
    "\n",
    "## 3. Kendall Tau (켄달타우 상관계수)\n",
    "> using data __order__\n",
    "\n",
    "```python\n",
    "import scipy.stats as stats\n",
    "correlation_statistic, p_value = stats.kendalltau(data1, data2)\n",
    "```"
   ]
  },
  {
   "cell_type": "code",
   "execution_count": 62,
   "metadata": {},
   "outputs": [
    {
     "name": "stdout",
     "output_type": "stream",
     "text": [
      "Pearson\n",
      "correlation_statistic : 0.3591101808835043\n",
      "p_value : 0.08481941563897465\n",
      "\n",
      "Spearman\n",
      "correlation_statistic : 0.4100930210379258\n",
      "p_value : 0.04655561808967115\n",
      "\n",
      "Kendall-tau\n",
      "correlation_statistic : 0.3833194738921656\n",
      "p_value : 0.02097298484359096\n",
      "\n"
     ]
    }
   ],
   "source": [
    "df = pd.read_csv(\"../data/linear_regression_01.csv\")\n",
    "\n",
    "\n",
    "correlation_statistic, p_value = stats.pearsonr(df.iloc[:,0], df.iloc[:,1])\n",
    "print(\"Pearson\")\n",
    "print(f\"correlation_statistic : {correlation_statistic}\")\n",
    "print(f\"p_value : {p_value}\")\n",
    "print()\n",
    "\n",
    "correlation_statistic, p_value = stats.spearmanr(df.iloc[:,0], df.iloc[:,1])\n",
    "print(\"Spearman\")\n",
    "print(f\"correlation_statistic : {correlation_statistic}\")\n",
    "print(f\"p_value : {p_value}\")\n",
    "print()\n",
    "\n",
    "correlation_statistic, p_value = stats.kendalltau(df.iloc[:,0], df.iloc[:,1])\n",
    "print(\"Kendall-tau\")\n",
    "print(f\"correlation_statistic : {correlation_statistic}\")\n",
    "print(f\"p_value : {p_value}\")\n",
    "print()"
   ]
  },
  {
   "cell_type": "code",
   "execution_count": 3,
   "metadata": {},
   "outputs": [],
   "source": [
    "stats.chisquare()"
   ]
  }
 ],
 "metadata": {
  "kernelspec": {
   "display_name": "Python 3 (ipykernel)",
   "language": "python",
   "name": "python3"
  },
  "language_info": {
   "codemirror_mode": {
    "name": "ipython",
    "version": 3
   },
   "file_extension": ".py",
   "mimetype": "text/x-python",
   "name": "python",
   "nbconvert_exporter": "python",
   "pygments_lexer": "ipython3",
   "version": "3.11.5"
  },
  "toc": {
   "base_numbering": 1,
   "nav_menu": {},
   "number_sections": true,
   "sideBar": true,
   "skip_h1_title": false,
   "title_cell": "Table of Contents",
   "title_sidebar": "Contents",
   "toc_cell": false,
   "toc_position": {
    "height": "calc(100% - 180px)",
    "left": "10px",
    "top": "150px",
    "width": "479.188px"
   },
   "toc_section_display": true,
   "toc_window_display": true
  },
  "varInspector": {
   "cols": {
    "lenName": 16,
    "lenType": 16,
    "lenVar": 40
   },
   "kernels_config": {
    "python": {
     "delete_cmd_postfix": "",
     "delete_cmd_prefix": "del ",
     "library": "var_list.py",
     "varRefreshCmd": "print(var_dic_list())"
    },
    "r": {
     "delete_cmd_postfix": ") ",
     "delete_cmd_prefix": "rm(",
     "library": "var_list.r",
     "varRefreshCmd": "cat(var_dic_list()) "
    }
   },
   "types_to_exclude": [
    "module",
    "function",
    "builtin_function_or_method",
    "instance",
    "_Feature"
   ],
   "window_display": false
  }
 },
 "nbformat": 4,
 "nbformat_minor": 4
}
