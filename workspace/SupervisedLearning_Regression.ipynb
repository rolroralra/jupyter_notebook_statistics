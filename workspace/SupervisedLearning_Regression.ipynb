{
 "cells": [
  {
   "cell_type": "markdown",
   "id": "363d8d62-039c-4f55-8159-2976304df09a",
   "metadata": {},
   "source": [
    "# 단순 선형 회귀분석"
   ]
  },
  {
   "cell_type": "markdown",
   "id": "807a08fd-ee10-4e09-abac-f40485868fc0",
   "metadata": {},
   "source": [
    "## package import"
   ]
  },
  {
   "cell_type": "markdown",
   "id": "392d5f83-1fe1-4928-a16c-c366af7c862e",
   "metadata": {},
   "source": [
    "## 데이터 불러오기"
   ]
  },
  {
   "cell_type": "markdown",
   "id": "dcaa6f56-7f2d-4f88-b717-e47312cc74f1",
   "metadata": {},
   "source": [
    "## 데이터 전처리"
   ]
  },
  {
   "cell_type": "markdown",
   "id": "1e904dbb-e5ad-4f92-b622-dcedb011022c",
   "metadata": {
    "jp-MarkdownHeadingCollapsed": true
   },
   "source": [
    "## train, test 데이터 준비"
   ]
  },
  {
   "cell_type": "markdown",
   "id": "bb67a794-de53-4bf7-8249-558527eefb2c",
   "metadata": {},
   "source": [
    "## 모델 적용 및 데이터 분석 수행"
   ]
  },
  {
   "cell_type": "markdown",
   "id": "48661748-baa1-4f30-9287-ffd39a679769",
   "metadata": {},
   "source": [
    "## 데이터 모델링 성능 평가"
   ]
  },
  {
   "cell_type": "markdown",
   "id": "7b4ef03f-70e3-4ffd-aa9e-eb528c28e32f",
   "metadata": {
    "jp-MarkdownHeadingCollapsed": true
   },
   "source": [
    "# 다중 선형 회귀분석"
   ]
  },
  {
   "cell_type": "markdown",
   "id": "4acb90fb-bbe8-49aa-a4ac-a162c767340e",
   "metadata": {
    "jp-MarkdownHeadingCollapsed": true
   },
   "source": [
    "## package import"
   ]
  },
  {
   "cell_type": "markdown",
   "id": "a17de9d1-c544-43d8-b618-9e451371f19a",
   "metadata": {},
   "source": [
    "## 데이터 불러오기"
   ]
  },
  {
   "cell_type": "markdown",
   "id": "f59b0efb-eef5-41aa-9384-2c0f918e3106",
   "metadata": {},
   "source": [
    "## 데이터 전처리"
   ]
  },
  {
   "cell_type": "markdown",
   "id": "85158d09-8ee4-436f-bba0-7e5b1298e76f",
   "metadata": {
    "jp-MarkdownHeadingCollapsed": true
   },
   "source": [
    "## train, test 데이터 준비"
   ]
  },
  {
   "cell_type": "markdown",
   "id": "6aee4a13-e5e9-42c3-8863-ce6feb60aa6e",
   "metadata": {},
   "source": [
    "## 모델 적용 및 데이터 분석 수행"
   ]
  },
  {
   "cell_type": "markdown",
   "id": "2f597c91-067c-42b1-8d73-48972183733b",
   "metadata": {},
   "source": [
    "## 데이터 모델링 성능 평가"
   ]
  },
  {
   "cell_type": "markdown",
   "id": "f1757fa2-3d83-49e6-833c-69d1dc1aacbb",
   "metadata": {},
   "source": [
    "# 의사결정나무"
   ]
  },
  {
   "cell_type": "markdown",
   "id": "1cc073a5-6003-49d3-b034-18cc4761980a",
   "metadata": {
    "jp-MarkdownHeadingCollapsed": true
   },
   "source": [
    "## package import"
   ]
  },
  {
   "cell_type": "markdown",
   "id": "2eb509a1-ca40-4fb9-a8ed-1938f5b25254",
   "metadata": {},
   "source": [
    "## 데이터 불러오기"
   ]
  },
  {
   "cell_type": "markdown",
   "id": "7a92237d-5538-4547-843c-c0709a6ee6a2",
   "metadata": {},
   "source": [
    "## 데이터 전처리"
   ]
  },
  {
   "cell_type": "markdown",
   "id": "6e843e28-dc14-40f7-a5eb-9dd78020eb22",
   "metadata": {
    "jp-MarkdownHeadingCollapsed": true
   },
   "source": [
    "## train, test 데이터 준비"
   ]
  },
  {
   "cell_type": "markdown",
   "id": "282666c0-e61c-41a9-beee-2e8604456358",
   "metadata": {},
   "source": [
    "## 모델 적용 및 데이터 분석 수행"
   ]
  },
  {
   "cell_type": "markdown",
   "id": "e266d54d-9a62-4c9c-9bbd-6081a691cd4d",
   "metadata": {},
   "source": [
    "## 데이터 모델링 성능 평가"
   ]
  },
  {
   "cell_type": "markdown",
   "id": "04328476-51de-45d1-bbe3-83b60a9e92ec",
   "metadata": {},
   "source": [
    "# 랜덤포레스트"
   ]
  },
  {
   "cell_type": "markdown",
   "id": "51a27000-c07d-48b3-b8dc-d83a4833bdb3",
   "metadata": {
    "jp-MarkdownHeadingCollapsed": true
   },
   "source": [
    "## package import"
   ]
  },
  {
   "cell_type": "markdown",
   "id": "d4562c69-0a84-4e6b-81e4-2eb17eeadc3a",
   "metadata": {},
   "source": [
    "## 데이터 불러오기"
   ]
  },
  {
   "cell_type": "markdown",
   "id": "b254c1d7-1504-4faa-9215-ab79f98c3964",
   "metadata": {},
   "source": [
    "## 데이터 전처리"
   ]
  },
  {
   "cell_type": "markdown",
   "id": "40df6da9-105e-45d2-abbb-de2df242b9db",
   "metadata": {
    "jp-MarkdownHeadingCollapsed": true
   },
   "source": [
    "## train, test 데이터 준비"
   ]
  },
  {
   "cell_type": "markdown",
   "id": "29535240-f55a-4141-b6ea-138226b56492",
   "metadata": {},
   "source": [
    "## 모델 적용 및 데이터 분석 수행"
   ]
  },
  {
   "cell_type": "markdown",
   "id": "7d85b279-c023-4d1d-8e33-b573bd14c200",
   "metadata": {},
   "source": [
    "## 데이터 모델링 성능 평가"
   ]
  }
 ],
 "metadata": {
  "kernelspec": {
   "display_name": "Python 3 (ipykernel)",
   "language": "python",
   "name": "python3"
  },
  "language_info": {
   "codemirror_mode": {
    "name": "ipython",
    "version": 3
   },
   "file_extension": ".py",
   "mimetype": "text/x-python",
   "name": "python",
   "nbconvert_exporter": "python",
   "pygments_lexer": "ipython3",
   "version": "3.11.5"
  }
 },
 "nbformat": 4,
 "nbformat_minor": 5
}
